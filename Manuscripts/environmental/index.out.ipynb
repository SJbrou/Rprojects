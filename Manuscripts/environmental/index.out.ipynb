{
 "cells": [
  {
   "cell_type": "markdown",
   "metadata": {},
   "source": [
    "# Environmental impact of utilities\n",
    "\n",
    "Stan Brouwer (CapGemeni Office Solutions)"
   ],
   "id": "e6dd00fa-8680-41d9-a603-0edd4450bc61"
  },
  {
   "cell_type": "code",
   "execution_count": null,
   "metadata": {},
   "outputs": [
    {
     "output_type": "stream",
     "name": "stderr",
     "text": [
      "Loading required package: tidyverse"
     ]
    },
    {
     "output_type": "stream",
     "name": "stderr",
     "text": [
      "── Attaching core tidyverse packages ──────────────────────── tidyverse 2.0.0 ──\n",
      "✔ dplyr     1.1.4     ✔ readr     2.1.5\n",
      "✔ forcats   1.0.0     ✔ stringr   1.5.1\n",
      "✔ ggplot2   3.5.1     ✔ tibble    3.2.1\n",
      "✔ lubridate 1.9.3     ✔ tidyr     1.3.1\n",
      "✔ purrr     1.0.2     \n",
      "── Conflicts ────────────────────────────────────────── tidyverse_conflicts() ──\n",
      "✖ dplyr::filter() masks stats::filter()\n",
      "✖ dplyr::lag()    masks stats::lag()\n",
      "ℹ Use the conflicted package (<http://conflicted.r-lib.org/>) to force all conflicts to become errors\n",
      "Loading required package: plotly\n",
      "\n",
      "\n",
      "Attaching package: 'plotly'\n",
      "\n",
      "\n",
      "The following object is masked from 'package:ggplot2':\n",
      "\n",
      "    last_plot\n",
      "\n",
      "\n",
      "The following object is masked from 'package:stats':\n",
      "\n",
      "    filter\n",
      "\n",
      "\n",
      "The following object is masked from 'package:graphics':\n",
      "\n",
      "    layout\n",
      "\n",
      "\n",
      "Loading required package: knitr"
     ]
    },
    {
     "output_type": "stream",
     "name": "stderr",
     "text": [
      "Warning: package 'knitr' was built under R version 4.3.3"
     ]
    },
    {
     "output_type": "stream",
     "name": "stderr",
     "text": [
      "Loading required package: kableExtra\n",
      "\n",
      "Attaching package: 'kableExtra'\n",
      "\n",
      "The following object is masked from 'package:dplyr':\n",
      "\n",
      "    group_rows"
     ]
    }
   ],
   "source": [
    "# Clear workspace and load dependencies (install if necessary)\n",
    "rm(list = ls())\n",
    "\n",
    "install_and_load <- function(packages) {\n",
    "  install.packages(setdiff(packages, rownames(installed.packages())), dependencies = TRUE)\n",
    "  invisible(lapply(packages, require, character.only = TRUE))\n",
    "}\n",
    "install_and_load(c(\"tidyverse\", \"ggplot2\", \"plotly\", \"knitr\", \"kableExtra\"))"
   ],
   "id": "ba426b4a-f676-4eef-bcb5-7e69f2455f21"
  },
  {
   "cell_type": "markdown",
   "metadata": {},
   "source": [
    "With the recent focus on sustainability and net-zero by 2024, important business decisions have to be made. To make these decisions, we need to know our current environmental impact. This report models the enivronmental impact of utilities, assuming gas, power and solar. The numbers are based on typical residential building, but numbers for an office can easily be plugged in.\n",
    "\n",
    "## Utility consumption\n",
    "\n",
    "Assuming the following usage pattern:"
   ],
   "id": "eec2d1b6-651c-4d18-9563-0452e2e525d2"
  },
  {
   "cell_type": "code",
   "execution_count": null,
   "metadata": {},
   "outputs": [
    {
     "output_type": "display_data",
     "metadata": {},
     "data": {}
    }
   ],
   "source": [
    "# Load utility data\n",
    "data_utilities <- read.csv(\"data/utilities.csv\", sep=\";\", dec=\",\")\n",
    "\n",
    "# Date format handling\n",
    "data_utilities$date <- as.Date(paste0(\"01-\", data_utilities$date), format = \"%d-%m-%Y\")\n",
    "\n",
    "# Plot\n",
    "library(ggplot2)\n",
    "\n",
    "ggplot(data_utilities, aes(x = date)) +\n",
    "  geom_line(aes(y = Gas, color = \"Gas (m³)\"), linewidth = 1) +\n",
    "  geom_line(aes(y = Solar, color = \"Solar (kWh)\"), linewidth = 1) +\n",
    "  geom_line(aes(y = Energy, color = \"Electricity Usage (kWh)\"), linewidth = 1) +\n",
    "  labs(x = \"Date\",\n",
    "       y = \"Usage (kWh or m³)\",\n",
    "       color = \"Utility Type\") +\n",
    "  theme(\n",
    "    legend.position = \"top\",\n",
    "    legend.justification = \"center\"\n",
    "  )"
   ],
   "id": "cell-fig-utility"
  },
  {
   "cell_type": "raw",
   "metadata": {
    "raw_mimetype": "text/html"
   },
   "source": [
    "<details>"
   ],
   "id": "53c9a1a1-4481-4dd8-a815-d33d7c67eba0"
  },
  {
   "cell_type": "raw",
   "metadata": {
    "raw_mimetype": "text/html"
   },
   "source": [
    "<summary>"
   ],
   "id": "d3b15318-01cc-4092-8902-1bcbe0f10200"
  },
  {
   "cell_type": "markdown",
   "metadata": {},
   "source": [
    "Details"
   ],
   "id": "7cabb11c-98b6-403f-bbf5-7ff892ec832b"
  },
  {
   "cell_type": "raw",
   "metadata": {
    "raw_mimetype": "text/html"
   },
   "source": [
    "</summary>"
   ],
   "id": "49b4b8b0-e0f7-485d-a77c-5f4542a44caa"
  },
  {
   "cell_type": "code",
   "execution_count": null,
   "metadata": {},
   "outputs": [
    {
     "output_type": "display_data",
     "metadata": {},
     "data": {
      "text/html": [
       "\n"
      ]
     }
    }
   ],
   "source": [
    "# Output table\n",
    "knitr::kable(data_utilities, \n",
    "              col.names = c(\"Date\", \"Gas (m³)\", \"Electricity Usage (kWh)\", \"Solar (kWh)\"),\n",
    "              format = \"html\")"
   ],
   "id": "tbl-utility"
  },
  {
   "cell_type": "raw",
   "metadata": {
    "raw_mimetype": "text/html"
   },
   "source": [
    "</details>"
   ],
   "id": "835a86f2-ee3b-488e-853e-786e198e4388"
  },
  {
   "cell_type": "markdown",
   "metadata": {},
   "source": [
    "## Emissions of energy production\n",
    "\n",
    "To quantify and compare the warming effects of different kind of emissions, the IPPC proposes using the [Global Warming Potential](https://archive.ipcc.ch/ipccreports/tar/wg1/247.htm#:~:text=The%20GWP%20has%20been%20defined,reference%20gas%20(IPCC%2C%20l990)%3A) (GWP), which can be used to express the warming effect of different emissions to that of CO₂. To calculate our total emissions, we must first determine the emissions caused by the energy production.\n",
    "\n",
    "### Electricity\n",
    "\n",
    "The emissions of electricity production depends on the source of the energy, which changes minute-by-minute. During day, a lot of green solar power is generated, and during peaks, gas turbines kick in. Exact information on the current national energy mix is [publicly available](https://ned.nl/nl/dataportaal/energie-productie/elektriciteit/totale-elektriciteitsproductie). [Ember-energy](https://ember-energy.org/data/electricity-data-explorer/#data-tool) calculates the CO₂ emissions based on the energy mix, and has an API (email required) which provides the following numbers:\n",
    "\n",
    "See also: https://www.cbs.nl/-/media/\\_excel/2023/06/1-co2-emissie-energieverbruik-rendementen-elektriciteit-2021.xls"
   ],
   "id": "866da3a2-4a66-4e30-b03e-0e3d49f8d545"
  },
  {
   "cell_type": "code",
   "execution_count": null,
   "metadata": {},
   "outputs": [
    {
     "output_type": "display_data",
     "metadata": {},
     "data": {}
    }
   ],
   "source": [
    "# Energy Intensity data\n",
    "# ember-energy requires an API key. This script will look for the existence of energy_intensity.csv, and otherwise requires an API key to fetch new data. \n",
    "API_KEY <- \"YOUR-API-KEY\"\n",
    "\n",
    "# Check if the file 'energy_data.csv' exists\n",
    "if (file.exists(\"data/energy_intensity.csv\")) {\n",
    "  # print(\"File 'energy_intensity.csv' already exists.\")\n",
    "  data_energy_intensity <- read.csv(\"data/energy_intensity.csv\")\n",
    "} else if (API_KEY == \"YOUR-API-KEY\") {\n",
    "  print(\"No valid ember-energy API key\")\n",
    "} else {\n",
    "  # Requesting the energy intensity data\n",
    "  # Define the URL and the parameters\n",
    "  url <- \"https://api.ember-energy.org/v1/carbon-intensity/monthly\"\n",
    "  params <- list(\n",
    "    entity = \"Netherlands\", \n",
    "    start_date = \"2022-01\", \n",
    "    include_all_dates_value_range = \"false\",\n",
    "    api_key = API_KEY\n",
    "  )\n",
    "  library(httr)\n",
    "  library(jsonlite)\n",
    "\n",
    "  # Send the GET request\n",
    "  response <- GET(url, query = params, add_headers(\"accept\" = \"application/json\"))\n",
    "\n",
    "  # Convert teh response to JSON\n",
    "  data <- content(response, as = \"text\")\n",
    "  data_json <- fromJSON(data)\n",
    "\n",
    "  # Check if the JSON contains data or an error\n",
    "  if (length(data_json$data) == 0) {\n",
    "    print(\"Something went wrong with the API request: No data found in 'data_json$data'.\")\n",
    "  } else {\n",
    "    energy <- as.data.frame(data_json$data)\n",
    "    data_energy_intensity <- data.frame(\n",
    "      date = energy$date,\n",
    "      emissions_intensity_gco2_per_kwh = energy$emissions_intensity_gco2_per_kwh\n",
    "    )\n",
    "    \n",
    "    # As energy_intensity.csv does not exist, we save the data\n",
    "    write.csv(data_energy_intensity, \"data/energy_intensity.csv\")\n",
    "  }\n",
    "}\n",
    "\n",
    "\n",
    "# Ensure 'date' is in Date format\n",
    "data_energy_intensity$date <- as.Date(data_energy_intensity$date)\n",
    "\n",
    "\n",
    "# Plot\n",
    "ggplot(data_energy_intensity, aes(x = date, y = emissions_intensity_gco2_per_kwh)) +\n",
    "  geom_line(color = \"blue\", linewidth = 1) +\n",
    "  labs(\n",
    "    x = \"Date\",\n",
    "    y = expression(\"Emissions Intensity (g CO\"[2] ~ \"/ kWh)\")\n",
    "  )"
   ],
   "id": "cell-fig-energy-intensity"
  },
  {
   "cell_type": "markdown",
   "metadata": {},
   "source": [
    "To calculate the emissions caused by our energy consumption, we should account for the differing CO₂ emissions as follows:\n",
    "\n",
    "$$\n",
    "\\text{CO}_2  = \\sum_{i=1}^{n} E_i \\times F_i \n",
    "$$ With $\\text{CO}_2$ is the total produced CO₂ in grams,  \n",
    "$E_i$ the electricity usage for month $i$ in kWh,  \n",
    "$F_i$ the emissions intensity in $g CO₂/kWh$ for that specific month $i$.\n",
    "\n",
    "### Gas\n",
    "\n",
    "Calculating the exact emissions caused by gas production is somewhat more complex as gas distributors measure the gas-usage as volume (m³) which is dependent on the temperature, pressure and [gas mix](https://eduweb.eeni.tbm.tudelft.nl/TB141E/?aardgas-conversie), all of which are subject to change. Gas distributors solve this by multiply the measured volume with a correction value to determine the caloric value of the consumed gas (also see [wobbe index](https://eduweb.eeni.tbm.tudelft.nl/TB141E/?aardgas-conversie)). These corrections can be found on the final invoice.\n",
    "\n",
    "The Netherlands Enterprise Agency (RVO) has calculated the [emission factor](https://www.rvo.nl/sites/default/files/2023-10/CO2-emissiefactor-aardgas-Nederlandse-rapportage-en-ETS-%202023.pdf) for natural gas to be **56.34 kg CO₂ per GJ** of energy. This only includes the emissions caused by burning the gas, not from producing it. The exact number differs by ±2% per year due to differences in the national gas mix, for instance through higher LNG imports.\n",
    "\n",
    "The CBS [reports](https://www.cbs.nl/nl-nl/onze-diensten/methoden/begrippen/joule) that **1 GJ of natural gas corresponds to 31.6 m³**, thus we can calculate the emissions per m³ as follows:\n",
    "\n",
    "$$\n",
    "\\frac{56.34 \\text{ kg}}{\\text{GJ}}\n",
    "$$\n",
    "\n",
    "Since\n",
    "\n",
    "$$\n",
    "1 \\text{ GJ} = 31.6 \\text{ m}^3\n",
    "$$ we can compute:\n",
    "\n",
    "$$\n",
    "\\frac{56.34}{31.6} \\text{ kg/m}^3\n",
    "$$\n",
    "\n",
    "which simplifies to:\n",
    "\n",
    "$$\n",
    "1.78 \\text{ kg CO}_2 \\text{ per m}^3\n",
    "$$\n",
    "\n",
    "As the deviations for the emissions of the gas mix are ~2%, we simplify the calculation by not accounting for them.\n",
    "\n",
    "## Calculations\n",
    "\n",
    "From the emission factors per energy type the final formula can be determined:\n",
    "\n",
    "$$\n",
    "\\text{CO}_2 = \\left( \\sum_{i=1}^{n} E_i \\times F_i \\right) + \\left( G \\times 1,78 \\right)\n",
    "$$ With $\\text{CO}_2$ as the total produced CO₂ in grams,  \n",
    "$E_i$ the electricity usage for month $i$ in kWh,  \n",
    "$F_i$ the emissions intensity in $kg CO₂/kWh$ for that specific month $i$. $G$ the total gas usage in m³\n",
    "\n",
    "Plugging our usage data into this formula gives us the following emissions:"
   ],
   "id": "e5710f27-0bdb-4b3a-9f14-660717aa30f1"
  },
  {
   "cell_type": "code",
   "execution_count": null,
   "metadata": {},
   "outputs": [
    {
     "output_type": "display_data",
     "metadata": {},
     "data": {}
    }
   ],
   "source": [
    "# Merge datasets by date\n",
    "data_emissions <- data_utilities %>%\n",
    "  inner_join(data_energy_intensity, by = \"date\") %>%\n",
    "  mutate(\n",
    "    Electricity = (Energy * emissions_intensity_gco2_per_kwh) / 1000,  # Convert g to kg\n",
    "    Gas = Gas * 1.78  # kg CO2 per m³\n",
    "  ) %>%\n",
    "  select(date, Electricity, Gas)  # Keep relevant columns\n",
    "\n",
    "# Convert to long format for ggplot\n",
    "data_emissions_long <- data_emissions %>%\n",
    "  pivot_longer(cols = c(Electricity, Gas), \n",
    "               names_to = \"Source\", values_to = \"Emissions\")\n",
    "\n",
    "if (knitr::is_html_output()) {\n",
    "  # Interactive Stacked Area Plot (HTML)\n",
    "ggplot(data_emissions_long, aes(x = date, y = Emissions, fill = Source)) +\n",
    "  geom_area(alpha = 0.6) +  # Stacked area plot\n",
    "  labs(\n",
    "    x = \"Date\",\n",
    "    y = expression(\"CO\"[2] ~ \" Emissions (kg)\"),  # Fix CO₂ subscript\n",
    "    fill = \"Emission Source\"\n",
    "  ) +\n",
    "  theme(\n",
    "    legend.position = \"top\",  # Place legend at the top\n",
    "    legend.justification = \"center\"  # Center-align the legend\n",
    "  )\n",
    "} else {\n",
    "  # Static Stacked Area Plot (ggplot2)\n",
    "  ggplot(data_emissions_long, aes(x = date, y = Emissions, fill = Source)) +\n",
    "    geom_area(alpha = 0.6, position = \"stack\") +  # Stacked area plot\n",
    "    labs(\n",
    "      x = \"Date\",\n",
    "      y = expression(\"CO\"[2] ~ \" Emissions (kg)\"),  # Fix CO₂\n",
    "      fill = \"Emission Source\"\n",
    "    ) +\n",
    "    theme(\n",
    "      legend.position = \"top\",\n",
    "      legend.justification = \"center\"\n",
    "    )\n",
    "}\n",
    "\n",
    "# For the tables:\n",
    "data_emissions$total <- data_emissions$Gas + data_emissions$Electricity"
   ],
   "id": "cell-fig-emissions"
  },
  {
   "cell_type": "code",
   "execution_count": null,
   "metadata": {},
   "outputs": [
    {
     "output_type": "display_data",
     "metadata": {},
     "data": {
      "text/html": [
       "\n"
      ]
     }
    }
   ],
   "source": [
    "library(dplyr)\n",
    "library(knitr)\n",
    "\n",
    "# Ensure 'date' is in Date format\n",
    "data_emissions$date <- as.Date(data_emissions$date)\n",
    "\n",
    "# Extract year from date\n",
    "data_emissions$year <- format(data_emissions$date, \"%Y\")\n",
    "\n",
    "# Aggregate emissions per year\n",
    "yearly_emissions <- data_emissions %>%\n",
    "  group_by(year) %>%\n",
    "  summarise(\n",
    "    `Gas emissions (kg CO₂)` = sum(Gas, na.rm = TRUE),\n",
    "    `Electricity emissions (kg CO₂)` = sum(Electricity, na.rm = TRUE),\n",
    "    `Total emissions (kg CO₂)` = sum(total, na.rm = TRUE)\n",
    "  )\n",
    "\n",
    "# Display the table in Quarto\n",
    "kable(yearly_emissions, format = \"html\", digits = 2, align = \"c\")"
   ],
   "id": "b7c4b5d6-9b6e-4eb2-9106-3675cca399f8"
  },
  {
   "cell_type": "raw",
   "metadata": {
    "raw_mimetype": "text/html"
   },
   "source": [
    "<details>"
   ],
   "id": "1355b94f-0e72-45e9-b427-59d2d8b29d8a"
  },
  {
   "cell_type": "raw",
   "metadata": {
    "raw_mimetype": "text/html"
   },
   "source": [
    "<summary>"
   ],
   "id": "61272256-0349-453b-ad0a-9c47a226d951"
  },
  {
   "cell_type": "markdown",
   "metadata": {},
   "source": [
    "Details"
   ],
   "id": "a1d6dd82-e82a-4849-b7d8-c60a4c70f8e9"
  },
  {
   "cell_type": "raw",
   "metadata": {
    "raw_mimetype": "text/html"
   },
   "source": [
    "</summary>"
   ],
   "id": "ce1919fc-a01b-40cb-971e-0ea59f388348"
  },
  {
   "cell_type": "code",
   "execution_count": null,
   "metadata": {},
   "outputs": [
    {
     "output_type": "display_data",
     "metadata": {},
     "data": {
      "text/html": [
       "\n"
      ]
     }
    }
   ],
   "source": [
    "# Output table\n",
    "knitr::kable(data_emissions, format = \"html\")"
   ],
   "id": "tbl-emissions"
  },
  {
   "cell_type": "raw",
   "metadata": {
    "raw_mimetype": "text/html"
   },
   "source": [
    "</details>"
   ],
   "id": "91786610-04f1-4d84-8fe2-1f941db9b56b"
  },
  {
   "cell_type": "markdown",
   "metadata": {},
   "source": [
    "If real estate occupancy rate, area or any other measure is known, calculating the carbon footprint per person, workspace or area is trivial.\n",
    "\n",
    "## Concerns\n",
    "\n",
    "Clearly, the current calculations only accounts for the direct emissions caused by burning gas, or from producing electricity. (scope 1&2 emissions). Producing and transporting gas and electricity also has a significant impact on the environment.\n",
    "\n",
    "Furthermore, solar panels return electricity into the grid. How should they be accounted for?"
   ],
   "id": "9fd8ec1a-d0c8-4c5e-b4bc-15f3d7a75d0f"
  },
  {
   "cell_type": "code",
   "execution_count": null,
   "metadata": {},
   "outputs": [],
   "source": [
    "#Weather data\n",
    "\n",
    "#The Royal Netherlands Meteorological Institute (KNMI) has a weather station located within 15km of my location. Their [datasets](https://www.knmi.nl/nederland-nu/klimatologie/daggegevens) are publicly available, and they have an open #[API endpoint](https://www.knmi.nl/kennis-en-datacentrum/achtergrond/data-ophalen-vanuit-een-script), where we can collect local temperatures and sunhours."
   ],
   "id": "046ca034-cde5-451b-80ed-bff37378c22f"
  }
 ],
 "nbformat": 4,
 "nbformat_minor": 5,
 "metadata": {}
}
